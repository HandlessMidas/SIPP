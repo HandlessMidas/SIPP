{
 "metadata": {
  "language_info": {
   "codemirror_mode": {
    "name": "ipython",
    "version": 3
   },
   "file_extension": ".py",
   "mimetype": "text/x-python",
   "name": "python",
   "nbconvert_exporter": "python",
   "pygments_lexer": "ipython3",
   "version": "3.9.4-final"
  },
  "orig_nbformat": 2,
  "kernelspec": {
   "name": "jupyter_env",
   "display_name": "jupyter_env"
  }
 },
 "nbformat": 4,
 "nbformat_minor": 2,
 "cells": [
  {
   "cell_type": "code",
   "execution_count": 2,
   "metadata": {},
   "outputs": [],
   "source": [
    "from Map import *\n",
    "from CreateObstacles import *\n",
    "import numpy as np\n",
    "from copy import deepcopy\n",
    "\n",
    "import matplotlib.pyplot as plt"
   ]
  },
  {
   "cell_type": "code",
   "execution_count": null,
   "metadata": {},
   "outputs": [],
   "source": [
    "fig, axis = plt.subplots(10, 1, figsize=(50, 50))\n",
    "for ax in axis:\n",
    "    im = np.zeros((10, 10))\n",
    "    traj = random_cycle_traj(10, 10, 50, mv=[(0, 0)] + [(1, 0)]*10 + [(0, 1)] + [(-1, 0)] + [(0, -1)]*10)\n",
    "    rows, cols = zip(*traj)\n",
    "    im[rows, cols] = 1\n",
    "    ax.matshow(im)\n",
    "\n",
    "plt.plot()"
   ]
  },
  {
   "cell_type": "code",
   "execution_count": null,
   "metadata": {},
   "outputs": [],
   "source": [
    "fig, axis = plt.subplots(10, 1, figsize=(50, 50))\n",
    "for ax in axis:\n",
    "    im = np.zeros((10, 10))\n",
    "    traj = random_linear_traj(10, 10, 10, mv=[(0, 0)] + [(1, 0)]*10 + [(0, 1)] + [(-1, 0)] + [(0, -1)]*10)\n",
    "    # traj = random_linear_traj(10, 10, 10)\n",
    "    rows, cols = zip(*traj)\n",
    "    im[rows, cols] = 1\n",
    "    ax.matshow(im)\n",
    "\n",
    "plt.plot()"
   ]
  },
  {
   "cell_type": "code",
   "execution_count": null,
   "metadata": {},
   "outputs": [],
   "source": [
    "pos_sym = {'.', '#', '@', 'T'}\n",
    "\n",
    "def ReadMapFromMovingAIFile(path):\n",
    "    f = open(path, 'r')\n",
    "    lines = []\n",
    "    h = 0\n",
    "    w = 0\n",
    "\n",
    "    for l in f:\n",
    "        if l[0] not in pos_sym:\n",
    "            if l.startswith('height'):\n",
    "                h = int(l.split(' ')[1])\n",
    "            if l.startswith('width'):\n",
    "                w = int(l.split(' ')[1])\n",
    "        else:\n",
    "            lines += [l]\n",
    "\n",
    "    mapstr = '\\n'.join(lines)\n",
    "    return mapstr, w, h"
   ]
  },
  {
   "cell_type": "code",
   "execution_count": null,
   "metadata": {
    "tags": []
   },
   "outputs": [],
   "source": [
    "mapstr, w, h = ReadMapFromMovingAIFile('Data/city/street-map/Berlin_0_256.map')\n",
    "m = Map()\n",
    "m.ReadFromString(mapstr, w, h)\n",
    "numpyMap = m.getNumpy()\n",
    "\n",
    "fig, axis = plt.subplots(10, 1, figsize=(50, 100))\n",
    "for ax in axis:\n",
    "    im = deepcopy(numpyMap)\n",
    "    traj = random_uncollide_linear_traj(m, w, h, 1000, mv=[(0, 0)] + [(1, 0)]*10 + [(0, 1)] + [(-1, 0)] + [(0, -1)]*10)\n",
    "    # traj = random_uncollide_linear_traj(m, w, h, 1000)\n",
    "    rows, cols = zip(*traj)\n",
    "    im[rows, cols] = 2\n",
    "    ax.matshow(im)\n",
    "\n",
    "plt.plot()"
   ]
  },
  {
   "cell_type": "code",
   "execution_count": null,
   "metadata": {},
   "outputs": [],
   "source": [
    "traj = random_uncollide_linear_traj(m, w, h, 1000, mv=[(0, 0)] + [(1, 0)]*10 + [(0, 1)] + [(-1, 0)] + [(0, -1)]*10)"
   ]
  },
  {
   "cell_type": "code",
   "execution_count": null,
   "metadata": {},
   "outputs": [],
   "source": [
    "strs = ['obst']\n",
    "ii, jj = zip(*traj)\n",
    "strs += [\" \".join(map(str,ii)), \" \".join(map(str, jj))]\n",
    "print(\"\\n\".join(strs))"
   ]
  },
  {
   "cell_type": "code",
   "execution_count": null,
   "metadata": {},
   "outputs": [],
   "source": [
    "im = deepcopy(numpyMap)\n",
    "rows, cols = zip(*traj)\n",
    "im[rows, cols] = 2\n",
    "plt.matshow(im)\n",
    "\n",
    "plt.plot()"
   ]
  },
  {
   "cell_type": "code",
   "execution_count": null,
   "metadata": {},
   "outputs": [],
   "source": [
    "bfs(0, 0, 5, 3, 6, 6)"
   ]
  },
  {
   "cell_type": "code",
   "execution_count": null,
   "metadata": {},
   "outputs": [],
   "source": []
  }
 ]
}